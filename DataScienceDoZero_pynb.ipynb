{
  "nbformat": 4,
  "nbformat_minor": 0,
  "metadata": {
    "colab": {
      "provenance": [],
      "authorship_tag": "ABX9TyMyLQzW9bEBv2DQmJyq2xH/",
      "include_colab_link": true
    },
    "kernelspec": {
      "name": "python3",
      "display_name": "Python 3"
    },
    "language_info": {
      "name": "python"
    }
  },
  "cells": [
    {
      "cell_type": "markdown",
      "metadata": {
        "id": "view-in-github",
        "colab_type": "text"
      },
      "source": [
        "<a href=\"https://colab.research.google.com/github/LuigiAjello/DataScienceDoZero/blob/main/DataScienceDoZero_pynb.ipynb\" target=\"_parent\"><img src=\"https://colab.research.google.com/assets/colab-badge.svg\" alt=\"Open In Colab\"/></a>"
      ]
    },
    {
      "cell_type": "markdown",
      "source": [
        "# ***Cap 2 - Classificação:***\n"
      ],
      "metadata": {
        "id": "rgwNiGcMBMTh"
      }
    },
    {
      "cell_type": "code",
      "source": [
        "x = [4,1,2,3]\n",
        "\n",
        "y = sorted(x) # y agora é [1,2,3,4], x não mudou\n",
        "print(x)\n",
        "print(y)\n",
        "x.sort() #agora x mudou\n",
        "print(x)"
      ],
      "metadata": {
        "colab": {
          "base_uri": "https://localhost:8080/"
        },
        "id": "wA_BEKzyBpAg",
        "outputId": "2cae46a7-7a7c-4600-e568-7ccd1d0bd552"
      },
      "execution_count": null,
      "outputs": [
        {
          "output_type": "stream",
          "name": "stdout",
          "text": [
            "[4, 1, 2, 3]\n",
            "[1, 2, 3, 4]\n",
            "[1, 2, 3, 4]\n"
          ]
        }
      ]
    },
    {
      "cell_type": "code",
      "source": [
        "#clasifique a lista por valor absoluto do maior para o menor\n",
        "x = sorted([-4,1,-2,-3],key =abs, reverse = True) # é [-4,3,-2,1]"
      ],
      "metadata": {
        "colab": {
          "base_uri": "https://localhost:8080/"
        },
        "id": "GvSBegzyCasT",
        "outputId": "70266a97-6d98-439b-d039-281f551b5a49"
      },
      "execution_count": null,
      "outputs": [
        {
          "output_type": "stream",
          "name": "stdout",
          "text": [
            "[]\n"
          ]
        }
      ]
    },
    {
      "cell_type": "markdown",
      "source": [
        "#***Cap 2 - Comprensões*** ***de listas:***"
      ],
      "metadata": {
        "id": "UiRTc1MDDHFR"
      }
    },
    {
      "cell_type": "code",
      "source": [
        "'''\n",
        " Muitas vezes, para transformar uma lista em outra, voce deve selecionar alguns elementos, transforma-los ou fazer as duas coisas.\n",
        "  As Comprensoes de listas sao a forma pythonic de fazer isso\n",
        "'''\n",
        "even_numbers = [x for x in range (5) if x % 2 == 0] # [0,2,4]\n",
        "squares = [x * x for x in range(5)] # [0,1,4,9,16]\n",
        "\n",
        "even_squares = [x * x for x in even_numbers] #[0,4,16]\n",
        "\n",
        "print(even_numbers)\n",
        "print(squares)\n",
        "print(even_squares)"
      ],
      "metadata": {
        "colab": {
          "base_uri": "https://localhost:8080/"
        },
        "id": "6BxVJs-VaKFb",
        "outputId": "8e440fc2-9b77-4bf0-c939-1aa39c6374e6"
      },
      "execution_count": 2,
      "outputs": [
        {
          "output_type": "stream",
          "name": "stdout",
          "text": [
            "[0, 2, 4]\n",
            "[0, 1, 4, 9, 16]\n",
            "[0, 4, 16]\n"
          ]
        }
      ]
    },
    {
      "cell_type": "code",
      "source": [
        "'''\n",
        "  Da mesma for, voce pode transformar listas em  dicionarios ou conjuntos\n",
        "'''\n",
        "\n",
        "square_dict= {x: x * x for x in range(5)} #{0:0, 1:1 , 2:4, 3:9, 4:16 }\n",
        "square_set= {x * x for x in [1, -1]} #{1} pq é um set ou seja nao pode repetido\n",
        "\n",
        "print(square_dict)\n",
        "print(square_set)"
      ],
      "metadata": {
        "colab": {
          "base_uri": "https://localhost:8080/"
        },
        "id": "vw4qUgsHcEFR",
        "outputId": "abc00deb-7d89-4ccb-9fb7-501aa65798cb"
      },
      "execution_count": 3,
      "outputs": [
        {
          "output_type": "stream",
          "name": "stdout",
          "text": [
            "{0: 0, 1: 1, 2: 4, 3: 9, 4: 16}\n",
            "{1}\n"
          ]
        }
      ]
    },
    {
      "cell_type": "code",
      "source": [
        "'''\n",
        "  Quando não precisamos do valor da lista, feralmente usamos um sublinhado como variavel:\n",
        "'''\n",
        "even_numbers= [0,2,4]\n",
        "zeros = [0 for _ in even_numbers] # tem o mesmo tamanho de even_numbers\n",
        "print(zeros)\n"
      ],
      "metadata": {
        "colab": {
          "base_uri": "https://localhost:8080/"
        },
        "id": "3vtNMXVDdt6K",
        "outputId": "1c38b667-6b78-439e-e5d7-7a62dd146d96"
      },
      "execution_count": 8,
      "outputs": [
        {
          "output_type": "stream",
          "name": "stdout",
          "text": [
            "[0, 0, 0]\n"
          ]
        }
      ]
    },
    {
      "cell_type": "code",
      "source": [
        "'''\n",
        "Uma compreensao de lista pode conter multiplos for:\n",
        "'''\n",
        "pairs = [(x,y)\n",
        "          for x in range(10)\n",
        "          for y in range(10)\n",
        "]\n",
        "print(pairs)"
      ],
      "metadata": {
        "colab": {
          "base_uri": "https://localhost:8080/"
        },
        "id": "AgSMvH_ljaTm",
        "outputId": "c0f6f183-386a-4d98-bdd0-70b537f7de78"
      },
      "execution_count": 14,
      "outputs": [
        {
          "output_type": "stream",
          "name": "stdout",
          "text": [
            "[(0, 0), (0, 1), (0, 2), (0, 3), (0, 4), (0, 5), (0, 6), (0, 7), (0, 8), (0, 9), (1, 0), (1, 1), (1, 2), (1, 3), (1, 4), (1, 5), (1, 6), (1, 7), (1, 8), (1, 9), (2, 0), (2, 1), (2, 2), (2, 3), (2, 4), (2, 5), (2, 6), (2, 7), (2, 8), (2, 9), (3, 0), (3, 1), (3, 2), (3, 3), (3, 4), (3, 5), (3, 6), (3, 7), (3, 8), (3, 9), (4, 0), (4, 1), (4, 2), (4, 3), (4, 4), (4, 5), (4, 6), (4, 7), (4, 8), (4, 9), (5, 0), (5, 1), (5, 2), (5, 3), (5, 4), (5, 5), (5, 6), (5, 7), (5, 8), (5, 9), (6, 0), (6, 1), (6, 2), (6, 3), (6, 4), (6, 5), (6, 6), (6, 7), (6, 8), (6, 9), (7, 0), (7, 1), (7, 2), (7, 3), (7, 4), (7, 5), (7, 6), (7, 7), (7, 8), (7, 9), (8, 0), (8, 1), (8, 2), (8, 3), (8, 4), (8, 5), (8, 6), (8, 7), (8, 8), (8, 9), (9, 0), (9, 1), (9, 2), (9, 3), (9, 4), (9, 5), (9, 6), (9, 7), (9, 8), (9, 9)]\n"
          ]
        }
      ]
    },
    {
      "cell_type": "code",
      "source": [
        "'''\n",
        "Os fors posteriores podem usar os resultados do anteriores\n",
        "'''\n",
        "increasing_pairs = [(x,y)\n",
        "          for x in range (10)\n",
        "            for y in range (x + 1, 10)\n",
        "        ]\n",
        "print(increasing_pairs)"
      ],
      "metadata": {
        "colab": {
          "base_uri": "https://localhost:8080/"
        },
        "id": "Hu2Epe45duHe",
        "outputId": "2b438742-49db-410d-d902-5597d745970b"
      },
      "execution_count": 13,
      "outputs": [
        {
          "output_type": "stream",
          "name": "stdout",
          "text": [
            "[(0, 1), (0, 2), (0, 3), (0, 4), (0, 5), (0, 6), (0, 7), (0, 8), (0, 9), (1, 2), (1, 3), (1, 4), (1, 5), (1, 6), (1, 7), (1, 8), (1, 9), (2, 3), (2, 4), (2, 5), (2, 6), (2, 7), (2, 8), (2, 9), (3, 4), (3, 5), (3, 6), (3, 7), (3, 8), (3, 9), (4, 5), (4, 6), (4, 7), (4, 8), (4, 9), (5, 6), (5, 7), (5, 8), (5, 9), (6, 7), (6, 8), (6, 9), (7, 8), (7, 9), (8, 9)]\n"
          ]
        }
      ]
    },
    {
      "cell_type": "markdown",
      "source": [
        "# ***Cap 2 - Testes automatizado e assercao***"
      ],
      "metadata": {
        "id": "zlp75qhBkvZU"
      }
    },
    {
      "cell_type": "code",
      "source": [
        "'''\n",
        "Usaremos apenas as instrucoes assert [assercao] para que o codigo gere um AssertionErros\n",
        "  caso a condicao especificada nao seja verdadeira:\n",
        "'''\n",
        "assert 1 + 1 == 2\n",
        "assert 1 +1 == 2 ,\"1+1 should equal 2 but didn't \"\n",
        "'''\n",
        "Como vemos no segundo caso, voce pode adicionar uma mensagem para ser impressa caso de falha na assercao\n",
        "'''\n"
      ],
      "metadata": {
        "id": "pks_nJeek30p"
      },
      "execution_count": 20,
      "outputs": []
    },
    {
      "cell_type": "code",
      "source": [
        "'''\n",
        "  Nao é muito interessante declarar que 1 + 1 = 2. É bem melhor declarar que as funcoes\n",
        "    estao funcionando como esperado:\n",
        "'''\n",
        "def smallest_item(xs):\n",
        "  return min(xs)\n",
        "assert smallest_item([10,20,5,40])== 5\n",
        "assert smallest_item([1,0,-1,2]) == -1"
      ],
      "metadata": {
        "id": "9DIEpiximJ0P"
      },
      "execution_count": 21,
      "outputs": []
    },
    {
      "cell_type": "code",
      "source": [
        "'''\n",
        "  Outro uso, menos comum, sao as assercoes sobre as entradas das funcoes\n",
        "'''\n",
        "\n",
        "def smallest_item(xs):\n",
        "  assert xs, \"empty list has no smallest item\"\n",
        "  return min(xs)\n",
        ""
      ],
      "metadata": {
        "id": "PBop9jNqng-9"
      },
      "execution_count": 22,
      "outputs": []
    },
    {
      "cell_type": "markdown",
      "source": [
        "# ***Cap 2 - Programacao Orientada a objetos:***"
      ],
      "metadata": {
        "id": "zA666RzXpcoQ"
      }
    },
    {
      "cell_type": "markdown",
      "source": [
        "\n",
        "> Você pode definir classes para encapsular dados e suas respectivas funcões"
      ],
      "metadata": {
        "id": "ZMgs0HTeqhwC"
      }
    },
    {
      "cell_type": "markdown",
      "source": [
        "**Exemplo para entender POO em python :**\n",
        "\n",
        "\n",
        "*   Criaremos uma classe para representar um \"contador manual numerico\"\n",
        "\n",
        "*   A classe contem um *count*, incrementa a contagem ao ser *`clicked`*  (clicada) permite a *`read_count`* e pode ser *`reset`, voltando para zero.\n",
        "    \n",
        "\n",
        "\n",
        "\n"
      ],
      "metadata": {
        "id": "ae0za-PWqxkv"
      }
    },
    {
      "cell_type": "markdown",
      "source": [
        "Para definir uma classe use a palavra-chave class e um nome padrao PacalCase (TipoAssim)\n",
        "\n",
        "\n",
        "\n",
        "```\n",
        "class CountingClicker:\n",
        "// codigo //\n",
        "\n",
        "```\n",
        "**A classe pode/deve ter um docstring, como as funcoes**"
      ],
      "metadata": {
        "id": "Q00BmSJT5mN-"
      }
    },
    {
      "cell_type": "markdown",
      "source": [
        "\n",
        "\n",
        "\n",
        "\n",
        "\n",
        "\n",
        "> Uma classe contem zero ou mais funcoes de *membro*. Por convenção, cada função recebe o primeiro parâmetro, `self`, que se refere à objeto (instância) da classe específica.\n",
        "\n",
        "\n"
      ],
      "metadata": {
        "id": "SMOrV91U4YXT"
      }
    },
    {
      "cell_type": "markdown",
      "source": [
        "**Em geral, a classe tem um construtor chamado `__init__`, que recebe todos os parâmetros necessarios para construir um objeto (instância) da classe e implementa as configurações:**"
      ],
      "metadata": {
        "id": "Ho7DXZRU6lLT"
      }
    },
    {
      "cell_type": "code",
      "source": [
        "class CountingClicker:\n",
        "    def __init__(self, count=0):\n",
        "        self.count = count  # Atributo de objeto(instância)"
      ],
      "metadata": {
        "id": "ZkA0kEwl1S2j"
      },
      "execution_count": 39,
      "outputs": []
    },
    {
      "cell_type": "markdown",
      "source": [
        "**Embora o construtor tenha um nome engracado, criamos os objetos do contador usando apenas o nome da classe:**"
      ],
      "metadata": {
        "id": "jqHYWl3e8d1M"
      }
    },
    {
      "cell_type": "code",
      "source": [
        "Clicker1 = CountingClicker()\n",
        "Clicker2 = CountingClicker(100)\n",
        "Clicker3 = CountingClicker(count=100)"
      ],
      "metadata": {
        "id": "YyC7-NrB1dqv"
      },
      "execution_count": 42,
      "outputs": []
    }
  ]
}